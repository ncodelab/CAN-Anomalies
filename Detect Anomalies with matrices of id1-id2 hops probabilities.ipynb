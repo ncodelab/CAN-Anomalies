{
 "cells": [
  {
   "cell_type": "markdown",
   "metadata": {},
   "source": [
    "# Detect Anomalies with matrices of id1-id2 hops probabilities"
   ]
  },
  {
   "cell_type": "markdown",
   "metadata": {},
   "source": [
    "## How To"
   ]
  },
  {
   "cell_type": "markdown",
   "metadata": {},
   "source": [
    "Use matrices which consists probabilities that id2 will be after id1. Also detect _background noise_ IDs (repeated every time interval).\n",
    "\n",
    "For anomaly prediction check probability of next id. Sum up those probabilities for sequences and check if sequence is anomalous or not.\n",
    "\n",
    "Possible tweaks and questions:\n",
    "- 1, 2 or 3 deep matrix? 3 is looks too big. 1 deep is already 2048x2048 = 4Mb. 2 deep will be 8Gb.\n",
    "- Try something sparse and store only non zero matrix elements?"
   ]
  },
  {
   "cell_type": "markdown",
   "metadata": {},
   "source": [
    "### Benefits\n",
    "Easy to teach, just scan through log and add probabilities, that's all. Then store resulting matrix. Also easy and quick to use."
   ]
  },
  {
   "cell_type": "markdown",
   "metadata": {
    "collapsed": true
   },
   "source": [
    "### Possible downsides\n",
    "\n",
    "Just predict next id by **one** previous id. Can be extended to include n ids before, but will require to use vocab_size^n sized matrices."
   ]
  },
  {
   "cell_type": "code",
   "execution_count": null,
   "metadata": {
    "collapsed": true
   },
   "outputs": [],
   "source": []
  }
 ],
 "metadata": {
  "kernelspec": {
   "display_name": "Python 3",
   "language": "python",
   "name": "python3"
  },
  "language_info": {
   "codemirror_mode": {
    "name": "ipython",
    "version": 3
   },
   "file_extension": ".py",
   "mimetype": "text/x-python",
   "name": "python",
   "nbconvert_exporter": "python",
   "pygments_lexer": "ipython3",
   "version": "3.4.5"
  }
 },
 "nbformat": 4,
 "nbformat_minor": 2
}
